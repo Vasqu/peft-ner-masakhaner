{
 "cells": [
  {
   "cell_type": "code",
   "execution_count": 1,
   "metadata": {
    "collapsed": true,
    "ExecuteTime": {
     "end_time": "2023-06-24T17:06:38.134355719Z",
     "start_time": "2023-06-24T17:06:35.280003184Z"
    }
   },
   "outputs": [],
   "source": [
    "from src.NERModel import RobertaLightningNER\n",
    "from src.NERDataModule import NERDataModule"
   ]
  },
  {
   "cell_type": "code",
   "execution_count": 2,
   "outputs": [
    {
     "name": "stderr",
     "output_type": "stream",
     "text": [
      "Found cached dataset conll2003 (/datadisk1/av11/downloads/huggingface/conll2003/conll2003/1.0.0/9a4d16a94f8674ba3466315300359b0acd891b68b6c8743ddf60b9c702adce98)\n"
     ]
    },
    {
     "data": {
      "text/plain": "  0%|          | 0/3 [00:00<?, ?it/s]",
      "application/vnd.jupyter.widget-view+json": {
       "version_major": 2,
       "version_minor": 0,
       "model_id": "2d0124a66756480ba579cb7b367b18be"
      }
     },
     "metadata": {},
     "output_type": "display_data"
    },
    {
     "name": "stderr",
     "output_type": "stream",
     "text": [
      "Loading cached processed dataset at /datadisk1/av11/downloads/huggingface/conll2003/conll2003/1.0.0/9a4d16a94f8674ba3466315300359b0acd891b68b6c8743ddf60b9c702adce98/cache-b989e3d505dc3917.arrow\n",
      "Loading cached processed dataset at /datadisk1/av11/downloads/huggingface/conll2003/conll2003/1.0.0/9a4d16a94f8674ba3466315300359b0acd891b68b6c8743ddf60b9c702adce98/cache-c9607d620d1b6e6d.arrow\n",
      "Loading cached processed dataset at /datadisk1/av11/downloads/huggingface/conll2003/conll2003/1.0.0/9a4d16a94f8674ba3466315300359b0acd891b68b6c8743ddf60b9c702adce98/cache-17734722a02b01ba.arrow\n",
      "Found cached dataset masakhaner (/datadisk1/av11/downloads/huggingface/masakhaner/amh/1.0.0/e61b24903076a3af7682855beebb820ec64edad0d6787b148c473694592d10b3)\n"
     ]
    },
    {
     "data": {
      "text/plain": "  0%|          | 0/3 [00:00<?, ?it/s]",
      "application/vnd.jupyter.widget-view+json": {
       "version_major": 2,
       "version_minor": 0,
       "model_id": "21b94967eca149848c2dc947cfedb50e"
      }
     },
     "metadata": {},
     "output_type": "display_data"
    },
    {
     "name": "stderr",
     "output_type": "stream",
     "text": [
      "Found cached dataset masakhaner (/datadisk1/av11/downloads/huggingface/masakhaner/hau/1.0.0/e61b24903076a3af7682855beebb820ec64edad0d6787b148c473694592d10b3)\n"
     ]
    },
    {
     "data": {
      "text/plain": "  0%|          | 0/3 [00:00<?, ?it/s]",
      "application/vnd.jupyter.widget-view+json": {
       "version_major": 2,
       "version_minor": 0,
       "model_id": "52c1f967a92b42d1a3f72da1f2ec9e24"
      }
     },
     "metadata": {},
     "output_type": "display_data"
    },
    {
     "name": "stderr",
     "output_type": "stream",
     "text": [
      "Found cached dataset masakhaner (/datadisk1/av11/downloads/huggingface/masakhaner/ibo/1.0.0/e61b24903076a3af7682855beebb820ec64edad0d6787b148c473694592d10b3)\n"
     ]
    },
    {
     "data": {
      "text/plain": "  0%|          | 0/3 [00:00<?, ?it/s]",
      "application/vnd.jupyter.widget-view+json": {
       "version_major": 2,
       "version_minor": 0,
       "model_id": "1b7966caae1a4409bce9f2dd5df30afb"
      }
     },
     "metadata": {},
     "output_type": "display_data"
    },
    {
     "name": "stderr",
     "output_type": "stream",
     "text": [
      "Found cached dataset masakhaner (/datadisk1/av11/downloads/huggingface/masakhaner/kin/1.0.0/e61b24903076a3af7682855beebb820ec64edad0d6787b148c473694592d10b3)\n"
     ]
    },
    {
     "data": {
      "text/plain": "  0%|          | 0/3 [00:00<?, ?it/s]",
      "application/vnd.jupyter.widget-view+json": {
       "version_major": 2,
       "version_minor": 0,
       "model_id": "138a4383c9e5411c98aa173e09f73320"
      }
     },
     "metadata": {},
     "output_type": "display_data"
    },
    {
     "name": "stderr",
     "output_type": "stream",
     "text": [
      "Found cached dataset masakhaner (/datadisk1/av11/downloads/huggingface/masakhaner/lug/1.0.0/e61b24903076a3af7682855beebb820ec64edad0d6787b148c473694592d10b3)\n"
     ]
    },
    {
     "data": {
      "text/plain": "  0%|          | 0/3 [00:00<?, ?it/s]",
      "application/vnd.jupyter.widget-view+json": {
       "version_major": 2,
       "version_minor": 0,
       "model_id": "15519fb7370f4d9eb5d941ce40377942"
      }
     },
     "metadata": {},
     "output_type": "display_data"
    },
    {
     "name": "stderr",
     "output_type": "stream",
     "text": [
      "Found cached dataset masakhaner (/datadisk1/av11/downloads/huggingface/masakhaner/luo/1.0.0/e61b24903076a3af7682855beebb820ec64edad0d6787b148c473694592d10b3)\n"
     ]
    },
    {
     "data": {
      "text/plain": "  0%|          | 0/3 [00:00<?, ?it/s]",
      "application/vnd.jupyter.widget-view+json": {
       "version_major": 2,
       "version_minor": 0,
       "model_id": "b53308066fba40a1833aa5bf5d26e213"
      }
     },
     "metadata": {},
     "output_type": "display_data"
    },
    {
     "name": "stderr",
     "output_type": "stream",
     "text": [
      "Found cached dataset masakhaner (/datadisk1/av11/downloads/huggingface/masakhaner/pcm/1.0.0/e61b24903076a3af7682855beebb820ec64edad0d6787b148c473694592d10b3)\n"
     ]
    },
    {
     "data": {
      "text/plain": "  0%|          | 0/3 [00:00<?, ?it/s]",
      "application/vnd.jupyter.widget-view+json": {
       "version_major": 2,
       "version_minor": 0,
       "model_id": "1a03c17edf774f0291207177ddd65010"
      }
     },
     "metadata": {},
     "output_type": "display_data"
    },
    {
     "name": "stderr",
     "output_type": "stream",
     "text": [
      "Found cached dataset masakhaner (/datadisk1/av11/downloads/huggingface/masakhaner/swa/1.0.0/e61b24903076a3af7682855beebb820ec64edad0d6787b148c473694592d10b3)\n"
     ]
    },
    {
     "data": {
      "text/plain": "  0%|          | 0/3 [00:00<?, ?it/s]",
      "application/vnd.jupyter.widget-view+json": {
       "version_major": 2,
       "version_minor": 0,
       "model_id": "4841c5e3cf6243238f4e1bc3d332b867"
      }
     },
     "metadata": {},
     "output_type": "display_data"
    },
    {
     "name": "stderr",
     "output_type": "stream",
     "text": [
      "Found cached dataset masakhaner (/datadisk1/av11/downloads/huggingface/masakhaner/wol/1.0.0/e61b24903076a3af7682855beebb820ec64edad0d6787b148c473694592d10b3)\n"
     ]
    },
    {
     "data": {
      "text/plain": "  0%|          | 0/3 [00:00<?, ?it/s]",
      "application/vnd.jupyter.widget-view+json": {
       "version_major": 2,
       "version_minor": 0,
       "model_id": "23d5ef11b9484932bb7844244fe62c76"
      }
     },
     "metadata": {},
     "output_type": "display_data"
    },
    {
     "name": "stderr",
     "output_type": "stream",
     "text": [
      "Found cached dataset masakhaner (/datadisk1/av11/downloads/huggingface/masakhaner/yor/1.0.0/e61b24903076a3af7682855beebb820ec64edad0d6787b148c473694592d10b3)\n"
     ]
    },
    {
     "data": {
      "text/plain": "  0%|          | 0/3 [00:00<?, ?it/s]",
      "application/vnd.jupyter.widget-view+json": {
       "version_major": 2,
       "version_minor": 0,
       "model_id": "b057a2c440bc4dd7b80598737cff4206"
      }
     },
     "metadata": {},
     "output_type": "display_data"
    },
    {
     "name": "stderr",
     "output_type": "stream",
     "text": [
      "Loading cached processed dataset at /datadisk1/av11/downloads/huggingface/masakhaner/amh/1.0.0/e61b24903076a3af7682855beebb820ec64edad0d6787b148c473694592d10b3/cache-4f5ae55ce03d6e0c.arrow\n",
      "Loading cached processed dataset at /datadisk1/av11/downloads/huggingface/masakhaner/hau/1.0.0/e61b24903076a3af7682855beebb820ec64edad0d6787b148c473694592d10b3/cache-e0985d5d5fed1d0f.arrow\n",
      "Loading cached processed dataset at /datadisk1/av11/downloads/huggingface/masakhaner/ibo/1.0.0/e61b24903076a3af7682855beebb820ec64edad0d6787b148c473694592d10b3/cache-35062f8d4233a0c5.arrow\n",
      "Loading cached processed dataset at /datadisk1/av11/downloads/huggingface/masakhaner/kin/1.0.0/e61b24903076a3af7682855beebb820ec64edad0d6787b148c473694592d10b3/cache-824682e2079a91c2.arrow\n",
      "Loading cached processed dataset at /datadisk1/av11/downloads/huggingface/masakhaner/lug/1.0.0/e61b24903076a3af7682855beebb820ec64edad0d6787b148c473694592d10b3/cache-267c58e4539ba000.arrow\n",
      "Loading cached processed dataset at /datadisk1/av11/downloads/huggingface/masakhaner/luo/1.0.0/e61b24903076a3af7682855beebb820ec64edad0d6787b148c473694592d10b3/cache-3de47c5bc8d9baa7.arrow\n",
      "Loading cached processed dataset at /datadisk1/av11/downloads/huggingface/masakhaner/pcm/1.0.0/e61b24903076a3af7682855beebb820ec64edad0d6787b148c473694592d10b3/cache-a966b4213ba4663b.arrow\n",
      "Loading cached processed dataset at /datadisk1/av11/downloads/huggingface/masakhaner/swa/1.0.0/e61b24903076a3af7682855beebb820ec64edad0d6787b148c473694592d10b3/cache-a14b3f60fa03ecde.arrow\n",
      "Loading cached processed dataset at /datadisk1/av11/downloads/huggingface/masakhaner/wol/1.0.0/e61b24903076a3af7682855beebb820ec64edad0d6787b148c473694592d10b3/cache-a8e9079a8a6a200b.arrow\n",
      "Loading cached processed dataset at /datadisk1/av11/downloads/huggingface/masakhaner/yor/1.0.0/e61b24903076a3af7682855beebb820ec64edad0d6787b148c473694592d10b3/cache-4647d295d89245d3.arrow\n"
     ]
    }
   ],
   "source": [
    "#data = NERDataModule(train_dataset=\"wikiann\", config='en')\n",
    "data = NERDataModule(train_dataset=\"conll2003\")\n",
    "data_test_loader = data.test_dataloader()"
   ],
   "metadata": {
    "collapsed": false,
    "ExecuteTime": {
     "end_time": "2023-06-24T17:07:00.699744915Z",
     "start_time": "2023-06-24T17:06:38.135075407Z"
    }
   }
  },
  {
   "cell_type": "code",
   "execution_count": 3,
   "outputs": [
    {
     "name": "stderr",
     "output_type": "stream",
     "text": [
      "You're using a XLMRobertaTokenizerFast tokenizer. Please note that with a fast tokenizer, using the `__call__` method is faster than using a method to encode the text followed by a call to the `pad` method to get a padded encoding.\n"
     ]
    },
    {
     "data": {
      "text/plain": "({'input_ids': tensor([[     0,      6, 227573,  ...,      1,      1,      1],\n         [     0,      6, 168587,  ...,      1,      1,      1],\n         [     0,   7387,  96164,  ...,      1,      1,      1],\n         ...,\n         [     0,  56122,   1178,  ...,      1,      1,      1],\n         [     0, 179254,  17930,  ...,      1,      1,      1],\n         [     0,  75261,  51996,  ...,      1,      1,      1]]), 'attention_mask': tensor([[1, 1, 1,  ..., 0, 0, 0],\n         [1, 1, 1,  ..., 0, 0, 0],\n         [1, 1, 1,  ..., 0, 0, 0],\n         ...,\n         [1, 1, 1,  ..., 0, 0, 0],\n         [1, 1, 1,  ..., 0, 0, 0],\n         [1, 1, 1,  ..., 0, 0, 0]]), 'labels': tensor([[-100,    0,    0,  ..., -100, -100, -100],\n         [-100,    3,    4,  ..., -100, -100, -100],\n         [-100,    7,    8,  ..., -100, -100, -100],\n         ...,\n         [-100,    0,    0,  ..., -100, -100, -100],\n         [-100,    0,    0,  ..., -100, -100, -100],\n         [-100,    0,    0,  ..., -100, -100, -100]])},\n 0,\n 0)"
     },
     "execution_count": 3,
     "metadata": {},
     "output_type": "execute_result"
    }
   ],
   "source": [
    "batch = next(iter(data_test_loader))\n",
    "batch"
   ],
   "metadata": {
    "collapsed": false,
    "ExecuteTime": {
     "end_time": "2023-06-24T17:07:00.700281186Z",
     "start_time": "2023-06-24T17:07:00.691559343Z"
    }
   }
  },
  {
   "cell_type": "code",
   "execution_count": 4,
   "outputs": [
    {
     "name": "stderr",
     "output_type": "stream",
     "text": [
      "Some weights of the model checkpoint at xlm-roberta-base were not used when initializing XLMRobertaModel: ['lm_head.bias', 'roberta.pooler.dense.bias', 'lm_head.layer_norm.weight', 'lm_head.dense.bias', 'roberta.pooler.dense.weight', 'lm_head.decoder.weight', 'lm_head.layer_norm.bias', 'lm_head.dense.weight']\n",
      "- This IS expected if you are initializing XLMRobertaModel from the checkpoint of a model trained on another task or with another architecture (e.g. initializing a BertForSequenceClassification model from a BertForPreTraining model).\n",
      "- This IS NOT expected if you are initializing XLMRobertaModel from the checkpoint of a model that you expect to be exactly identical (initializing a BertForSequenceClassification model from a BertForSequenceClassification model).\n"
     ]
    },
    {
     "name": "stdout",
     "output_type": "stream",
     "text": [
      "\"embedding_dim\": 768\n",
      "\"learning_rate\": 2e-05\n",
      "\"ner_tags\":      9\n",
      "\"weight_decay\":  0.05\n"
     ]
    }
   ],
   "source": [
    "import torch\n",
    "\n",
    "nn = RobertaLightningNER(768, 9)\n",
    "nn.test_f1 = torch.nn.ModuleDict()\n",
    "print(nn.hparams)"
   ],
   "metadata": {
    "collapsed": false,
    "ExecuteTime": {
     "end_time": "2023-06-24T17:07:02.502142816Z",
     "start_time": "2023-06-24T17:07:00.691906651Z"
    }
   }
  },
  {
   "cell_type": "code",
   "execution_count": 5,
   "outputs": [
    {
     "name": "stderr",
     "output_type": "stream",
     "text": [
      "/home/av11/Documents/coding/pnn/ProgNN23_Biehler_Wangsadirdja_Vlasjuk/code/pnn2023/venv/lib/python3.10/site-packages/pytorch_lightning/core/module.py:410: UserWarning: You are trying to `self.log()` but the `self.trainer` reference is not registered on the model yet. This is most likely because the model hasn't been passed to the `Trainer`\n",
      "  rank_zero_warn(\n"
     ]
    }
   ],
   "source": [
    "# use a debugger or smthn to see loss and other details\n",
    "# be careful, this requires a lot of power --> might lead to crashes\n",
    "nn.test_step(batch[0], batch[1], batch[2])"
   ],
   "metadata": {
    "collapsed": false,
    "ExecuteTime": {
     "end_time": "2023-06-24T17:07:03.115987820Z",
     "start_time": "2023-06-24T17:07:02.454748301Z"
    }
   }
  },
  {
   "cell_type": "code",
   "execution_count": 6,
   "outputs": [
    {
     "data": {
      "text/plain": "['model.transformer.embeddings.word_embeddings.weight',\n 'model.transformer.embeddings.position_embeddings.weight',\n 'model.transformer.embeddings.token_type_embeddings.weight',\n 'model.transformer.embeddings.LayerNorm.weight',\n 'model.transformer.embeddings.LayerNorm.bias',\n 'model.transformer.encoder.layer.0.attention.self.query.weight',\n 'model.transformer.encoder.layer.0.attention.self.query.bias',\n 'model.transformer.encoder.layer.0.attention.self.key.weight',\n 'model.transformer.encoder.layer.0.attention.self.key.bias',\n 'model.transformer.encoder.layer.0.attention.self.value.weight',\n 'model.transformer.encoder.layer.0.attention.self.value.bias',\n 'model.transformer.encoder.layer.0.attention.output.dense.weight',\n 'model.transformer.encoder.layer.0.attention.output.dense.bias',\n 'model.transformer.encoder.layer.0.attention.output.LayerNorm.weight',\n 'model.transformer.encoder.layer.0.attention.output.LayerNorm.bias',\n 'model.transformer.encoder.layer.0.intermediate.dense.weight',\n 'model.transformer.encoder.layer.0.intermediate.dense.bias',\n 'model.transformer.encoder.layer.0.output.dense.weight',\n 'model.transformer.encoder.layer.0.output.dense.bias',\n 'model.transformer.encoder.layer.0.output.LayerNorm.weight',\n 'model.transformer.encoder.layer.0.output.LayerNorm.bias',\n 'model.transformer.encoder.layer.1.attention.self.query.weight',\n 'model.transformer.encoder.layer.1.attention.self.query.bias',\n 'model.transformer.encoder.layer.1.attention.self.key.weight',\n 'model.transformer.encoder.layer.1.attention.self.key.bias',\n 'model.transformer.encoder.layer.1.attention.self.value.weight',\n 'model.transformer.encoder.layer.1.attention.self.value.bias',\n 'model.transformer.encoder.layer.1.attention.output.dense.weight',\n 'model.transformer.encoder.layer.1.attention.output.dense.bias',\n 'model.transformer.encoder.layer.1.attention.output.LayerNorm.weight',\n 'model.transformer.encoder.layer.1.attention.output.LayerNorm.bias',\n 'model.transformer.encoder.layer.1.intermediate.dense.weight',\n 'model.transformer.encoder.layer.1.intermediate.dense.bias',\n 'model.transformer.encoder.layer.1.output.dense.weight',\n 'model.transformer.encoder.layer.1.output.dense.bias',\n 'model.transformer.encoder.layer.1.output.LayerNorm.weight',\n 'model.transformer.encoder.layer.1.output.LayerNorm.bias',\n 'model.transformer.encoder.layer.2.attention.self.query.weight',\n 'model.transformer.encoder.layer.2.attention.self.query.bias',\n 'model.transformer.encoder.layer.2.attention.self.key.weight',\n 'model.transformer.encoder.layer.2.attention.self.key.bias',\n 'model.transformer.encoder.layer.2.attention.self.value.weight',\n 'model.transformer.encoder.layer.2.attention.self.value.bias',\n 'model.transformer.encoder.layer.2.attention.output.dense.weight',\n 'model.transformer.encoder.layer.2.attention.output.dense.bias',\n 'model.transformer.encoder.layer.2.attention.output.LayerNorm.weight',\n 'model.transformer.encoder.layer.2.attention.output.LayerNorm.bias',\n 'model.transformer.encoder.layer.2.intermediate.dense.weight',\n 'model.transformer.encoder.layer.2.intermediate.dense.bias',\n 'model.transformer.encoder.layer.2.output.dense.weight',\n 'model.transformer.encoder.layer.2.output.dense.bias',\n 'model.transformer.encoder.layer.2.output.LayerNorm.weight',\n 'model.transformer.encoder.layer.2.output.LayerNorm.bias',\n 'model.transformer.encoder.layer.3.attention.self.query.weight',\n 'model.transformer.encoder.layer.3.attention.self.query.bias',\n 'model.transformer.encoder.layer.3.attention.self.key.weight',\n 'model.transformer.encoder.layer.3.attention.self.key.bias',\n 'model.transformer.encoder.layer.3.attention.self.value.weight',\n 'model.transformer.encoder.layer.3.attention.self.value.bias',\n 'model.transformer.encoder.layer.3.attention.output.dense.weight',\n 'model.transformer.encoder.layer.3.attention.output.dense.bias',\n 'model.transformer.encoder.layer.3.attention.output.LayerNorm.weight',\n 'model.transformer.encoder.layer.3.attention.output.LayerNorm.bias',\n 'model.transformer.encoder.layer.3.intermediate.dense.weight',\n 'model.transformer.encoder.layer.3.intermediate.dense.bias',\n 'model.transformer.encoder.layer.3.output.dense.weight',\n 'model.transformer.encoder.layer.3.output.dense.bias',\n 'model.transformer.encoder.layer.3.output.LayerNorm.weight',\n 'model.transformer.encoder.layer.3.output.LayerNorm.bias',\n 'model.transformer.encoder.layer.4.attention.self.query.weight',\n 'model.transformer.encoder.layer.4.attention.self.query.bias',\n 'model.transformer.encoder.layer.4.attention.self.key.weight',\n 'model.transformer.encoder.layer.4.attention.self.key.bias',\n 'model.transformer.encoder.layer.4.attention.self.value.weight',\n 'model.transformer.encoder.layer.4.attention.self.value.bias',\n 'model.transformer.encoder.layer.4.attention.output.dense.weight',\n 'model.transformer.encoder.layer.4.attention.output.dense.bias',\n 'model.transformer.encoder.layer.4.attention.output.LayerNorm.weight',\n 'model.transformer.encoder.layer.4.attention.output.LayerNorm.bias',\n 'model.transformer.encoder.layer.4.intermediate.dense.weight',\n 'model.transformer.encoder.layer.4.intermediate.dense.bias',\n 'model.transformer.encoder.layer.4.output.dense.weight',\n 'model.transformer.encoder.layer.4.output.dense.bias',\n 'model.transformer.encoder.layer.4.output.LayerNorm.weight',\n 'model.transformer.encoder.layer.4.output.LayerNorm.bias',\n 'model.transformer.encoder.layer.5.attention.self.query.weight',\n 'model.transformer.encoder.layer.5.attention.self.query.bias',\n 'model.transformer.encoder.layer.5.attention.self.key.weight',\n 'model.transformer.encoder.layer.5.attention.self.key.bias',\n 'model.transformer.encoder.layer.5.attention.self.value.weight',\n 'model.transformer.encoder.layer.5.attention.self.value.bias',\n 'model.transformer.encoder.layer.5.attention.output.dense.weight',\n 'model.transformer.encoder.layer.5.attention.output.dense.bias',\n 'model.transformer.encoder.layer.5.attention.output.LayerNorm.weight',\n 'model.transformer.encoder.layer.5.attention.output.LayerNorm.bias',\n 'model.transformer.encoder.layer.5.intermediate.dense.weight',\n 'model.transformer.encoder.layer.5.intermediate.dense.bias',\n 'model.transformer.encoder.layer.5.output.dense.weight',\n 'model.transformer.encoder.layer.5.output.dense.bias',\n 'model.transformer.encoder.layer.5.output.LayerNorm.weight',\n 'model.transformer.encoder.layer.5.output.LayerNorm.bias',\n 'model.transformer.encoder.layer.6.attention.self.query.weight',\n 'model.transformer.encoder.layer.6.attention.self.query.bias',\n 'model.transformer.encoder.layer.6.attention.self.key.weight',\n 'model.transformer.encoder.layer.6.attention.self.key.bias',\n 'model.transformer.encoder.layer.6.attention.self.value.weight',\n 'model.transformer.encoder.layer.6.attention.self.value.bias',\n 'model.transformer.encoder.layer.6.attention.output.dense.weight',\n 'model.transformer.encoder.layer.6.attention.output.dense.bias',\n 'model.transformer.encoder.layer.6.attention.output.LayerNorm.weight',\n 'model.transformer.encoder.layer.6.attention.output.LayerNorm.bias',\n 'model.transformer.encoder.layer.6.intermediate.dense.weight',\n 'model.transformer.encoder.layer.6.intermediate.dense.bias',\n 'model.transformer.encoder.layer.6.output.dense.weight',\n 'model.transformer.encoder.layer.6.output.dense.bias',\n 'model.transformer.encoder.layer.6.output.LayerNorm.weight',\n 'model.transformer.encoder.layer.6.output.LayerNorm.bias',\n 'model.transformer.encoder.layer.7.attention.self.query.weight',\n 'model.transformer.encoder.layer.7.attention.self.query.bias',\n 'model.transformer.encoder.layer.7.attention.self.key.weight',\n 'model.transformer.encoder.layer.7.attention.self.key.bias',\n 'model.transformer.encoder.layer.7.attention.self.value.weight',\n 'model.transformer.encoder.layer.7.attention.self.value.bias',\n 'model.transformer.encoder.layer.7.attention.output.dense.weight',\n 'model.transformer.encoder.layer.7.attention.output.dense.bias',\n 'model.transformer.encoder.layer.7.attention.output.LayerNorm.weight',\n 'model.transformer.encoder.layer.7.attention.output.LayerNorm.bias',\n 'model.transformer.encoder.layer.7.intermediate.dense.weight',\n 'model.transformer.encoder.layer.7.intermediate.dense.bias',\n 'model.transformer.encoder.layer.7.output.dense.weight',\n 'model.transformer.encoder.layer.7.output.dense.bias',\n 'model.transformer.encoder.layer.7.output.LayerNorm.weight',\n 'model.transformer.encoder.layer.7.output.LayerNorm.bias',\n 'model.transformer.encoder.layer.8.attention.self.query.weight',\n 'model.transformer.encoder.layer.8.attention.self.query.bias',\n 'model.transformer.encoder.layer.8.attention.self.key.weight',\n 'model.transformer.encoder.layer.8.attention.self.key.bias',\n 'model.transformer.encoder.layer.8.attention.self.value.weight',\n 'model.transformer.encoder.layer.8.attention.self.value.bias',\n 'model.transformer.encoder.layer.8.attention.output.dense.weight',\n 'model.transformer.encoder.layer.8.attention.output.dense.bias',\n 'model.transformer.encoder.layer.8.attention.output.LayerNorm.weight',\n 'model.transformer.encoder.layer.8.attention.output.LayerNorm.bias',\n 'model.transformer.encoder.layer.8.intermediate.dense.weight',\n 'model.transformer.encoder.layer.8.intermediate.dense.bias',\n 'model.transformer.encoder.layer.8.output.dense.weight',\n 'model.transformer.encoder.layer.8.output.dense.bias',\n 'model.transformer.encoder.layer.8.output.LayerNorm.weight',\n 'model.transformer.encoder.layer.8.output.LayerNorm.bias',\n 'model.transformer.encoder.layer.9.attention.self.query.weight',\n 'model.transformer.encoder.layer.9.attention.self.query.bias',\n 'model.transformer.encoder.layer.9.attention.self.key.weight',\n 'model.transformer.encoder.layer.9.attention.self.key.bias',\n 'model.transformer.encoder.layer.9.attention.self.value.weight',\n 'model.transformer.encoder.layer.9.attention.self.value.bias',\n 'model.transformer.encoder.layer.9.attention.output.dense.weight',\n 'model.transformer.encoder.layer.9.attention.output.dense.bias',\n 'model.transformer.encoder.layer.9.attention.output.LayerNorm.weight',\n 'model.transformer.encoder.layer.9.attention.output.LayerNorm.bias',\n 'model.transformer.encoder.layer.9.intermediate.dense.weight',\n 'model.transformer.encoder.layer.9.intermediate.dense.bias',\n 'model.transformer.encoder.layer.9.output.dense.weight',\n 'model.transformer.encoder.layer.9.output.dense.bias',\n 'model.transformer.encoder.layer.9.output.LayerNorm.weight',\n 'model.transformer.encoder.layer.9.output.LayerNorm.bias',\n 'model.transformer.encoder.layer.10.attention.self.query.weight',\n 'model.transformer.encoder.layer.10.attention.self.query.bias',\n 'model.transformer.encoder.layer.10.attention.self.key.weight',\n 'model.transformer.encoder.layer.10.attention.self.key.bias',\n 'model.transformer.encoder.layer.10.attention.self.value.weight',\n 'model.transformer.encoder.layer.10.attention.self.value.bias',\n 'model.transformer.encoder.layer.10.attention.output.dense.weight',\n 'model.transformer.encoder.layer.10.attention.output.dense.bias',\n 'model.transformer.encoder.layer.10.attention.output.LayerNorm.weight',\n 'model.transformer.encoder.layer.10.attention.output.LayerNorm.bias',\n 'model.transformer.encoder.layer.10.intermediate.dense.weight',\n 'model.transformer.encoder.layer.10.intermediate.dense.bias',\n 'model.transformer.encoder.layer.10.output.dense.weight',\n 'model.transformer.encoder.layer.10.output.dense.bias',\n 'model.transformer.encoder.layer.10.output.LayerNorm.weight',\n 'model.transformer.encoder.layer.10.output.LayerNorm.bias',\n 'model.transformer.encoder.layer.11.attention.self.query.weight',\n 'model.transformer.encoder.layer.11.attention.self.query.bias',\n 'model.transformer.encoder.layer.11.attention.self.key.weight',\n 'model.transformer.encoder.layer.11.attention.self.key.bias',\n 'model.transformer.encoder.layer.11.attention.self.value.weight',\n 'model.transformer.encoder.layer.11.attention.self.value.bias',\n 'model.transformer.encoder.layer.11.attention.output.dense.weight',\n 'model.transformer.encoder.layer.11.attention.output.dense.bias',\n 'model.transformer.encoder.layer.11.attention.output.LayerNorm.weight',\n 'model.transformer.encoder.layer.11.attention.output.LayerNorm.bias',\n 'model.transformer.encoder.layer.11.intermediate.dense.weight',\n 'model.transformer.encoder.layer.11.intermediate.dense.bias',\n 'model.transformer.encoder.layer.11.output.dense.weight',\n 'model.transformer.encoder.layer.11.output.dense.bias',\n 'model.transformer.encoder.layer.11.output.LayerNorm.weight',\n 'model.transformer.encoder.layer.11.output.LayerNorm.bias',\n 'model.out.weight',\n 'model.out.bias']"
     },
     "execution_count": 6,
     "metadata": {},
     "output_type": "execute_result"
    }
   ],
   "source": [
    "[k for k, _ in nn.named_parameters()]"
   ],
   "metadata": {
    "collapsed": false,
    "ExecuteTime": {
     "end_time": "2023-06-24T17:07:03.120073903Z",
     "start_time": "2023-06-24T17:07:03.117616648Z"
    }
   }
  },
  {
   "cell_type": "code",
   "execution_count": 7,
   "outputs": [
    {
     "data": {
      "text/plain": "[('model.transformer.embeddings.word_embeddings.weight', False),\n ('model.transformer.embeddings.position_embeddings.weight', False),\n ('model.transformer.embeddings.token_type_embeddings.weight', False),\n ('model.transformer.embeddings.LayerNorm.weight', False),\n ('model.transformer.embeddings.LayerNorm.bias', True),\n ('model.transformer.encoder.layer.0.attention.self.query.weight', False),\n ('model.transformer.encoder.layer.0.attention.self.query.bias', True),\n ('model.transformer.encoder.layer.0.attention.self.key.weight', False),\n ('model.transformer.encoder.layer.0.attention.self.key.bias', True),\n ('model.transformer.encoder.layer.0.attention.self.value.weight', False),\n ('model.transformer.encoder.layer.0.attention.self.value.bias', True),\n ('model.transformer.encoder.layer.0.attention.output.dense.weight', False),\n ('model.transformer.encoder.layer.0.attention.output.dense.bias', True),\n ('model.transformer.encoder.layer.0.attention.output.LayerNorm.weight',\n  False),\n ('model.transformer.encoder.layer.0.attention.output.LayerNorm.bias', True),\n ('model.transformer.encoder.layer.0.intermediate.dense.weight', False),\n ('model.transformer.encoder.layer.0.intermediate.dense.bias', True),\n ('model.transformer.encoder.layer.0.output.dense.weight', False),\n ('model.transformer.encoder.layer.0.output.dense.bias', True),\n ('model.transformer.encoder.layer.0.output.LayerNorm.weight', False),\n ('model.transformer.encoder.layer.0.output.LayerNorm.bias', True),\n ('model.transformer.encoder.layer.1.attention.self.query.weight', False),\n ('model.transformer.encoder.layer.1.attention.self.query.bias', True),\n ('model.transformer.encoder.layer.1.attention.self.key.weight', False),\n ('model.transformer.encoder.layer.1.attention.self.key.bias', True),\n ('model.transformer.encoder.layer.1.attention.self.value.weight', False),\n ('model.transformer.encoder.layer.1.attention.self.value.bias', True),\n ('model.transformer.encoder.layer.1.attention.output.dense.weight', False),\n ('model.transformer.encoder.layer.1.attention.output.dense.bias', True),\n ('model.transformer.encoder.layer.1.attention.output.LayerNorm.weight',\n  False),\n ('model.transformer.encoder.layer.1.attention.output.LayerNorm.bias', True),\n ('model.transformer.encoder.layer.1.intermediate.dense.weight', False),\n ('model.transformer.encoder.layer.1.intermediate.dense.bias', True),\n ('model.transformer.encoder.layer.1.output.dense.weight', False),\n ('model.transformer.encoder.layer.1.output.dense.bias', True),\n ('model.transformer.encoder.layer.1.output.LayerNorm.weight', False),\n ('model.transformer.encoder.layer.1.output.LayerNorm.bias', True),\n ('model.transformer.encoder.layer.2.attention.self.query.weight', False),\n ('model.transformer.encoder.layer.2.attention.self.query.bias', True),\n ('model.transformer.encoder.layer.2.attention.self.key.weight', False),\n ('model.transformer.encoder.layer.2.attention.self.key.bias', True),\n ('model.transformer.encoder.layer.2.attention.self.value.weight', False),\n ('model.transformer.encoder.layer.2.attention.self.value.bias', True),\n ('model.transformer.encoder.layer.2.attention.output.dense.weight', False),\n ('model.transformer.encoder.layer.2.attention.output.dense.bias', True),\n ('model.transformer.encoder.layer.2.attention.output.LayerNorm.weight',\n  False),\n ('model.transformer.encoder.layer.2.attention.output.LayerNorm.bias', True),\n ('model.transformer.encoder.layer.2.intermediate.dense.weight', False),\n ('model.transformer.encoder.layer.2.intermediate.dense.bias', True),\n ('model.transformer.encoder.layer.2.output.dense.weight', False),\n ('model.transformer.encoder.layer.2.output.dense.bias', True),\n ('model.transformer.encoder.layer.2.output.LayerNorm.weight', False),\n ('model.transformer.encoder.layer.2.output.LayerNorm.bias', True),\n ('model.transformer.encoder.layer.3.attention.self.query.weight', False),\n ('model.transformer.encoder.layer.3.attention.self.query.bias', True),\n ('model.transformer.encoder.layer.3.attention.self.key.weight', False),\n ('model.transformer.encoder.layer.3.attention.self.key.bias', True),\n ('model.transformer.encoder.layer.3.attention.self.value.weight', False),\n ('model.transformer.encoder.layer.3.attention.self.value.bias', True),\n ('model.transformer.encoder.layer.3.attention.output.dense.weight', False),\n ('model.transformer.encoder.layer.3.attention.output.dense.bias', True),\n ('model.transformer.encoder.layer.3.attention.output.LayerNorm.weight',\n  False),\n ('model.transformer.encoder.layer.3.attention.output.LayerNorm.bias', True),\n ('model.transformer.encoder.layer.3.intermediate.dense.weight', False),\n ('model.transformer.encoder.layer.3.intermediate.dense.bias', True),\n ('model.transformer.encoder.layer.3.output.dense.weight', False),\n ('model.transformer.encoder.layer.3.output.dense.bias', True),\n ('model.transformer.encoder.layer.3.output.LayerNorm.weight', False),\n ('model.transformer.encoder.layer.3.output.LayerNorm.bias', True),\n ('model.transformer.encoder.layer.4.attention.self.query.weight', False),\n ('model.transformer.encoder.layer.4.attention.self.query.bias', True),\n ('model.transformer.encoder.layer.4.attention.self.key.weight', False),\n ('model.transformer.encoder.layer.4.attention.self.key.bias', True),\n ('model.transformer.encoder.layer.4.attention.self.value.weight', False),\n ('model.transformer.encoder.layer.4.attention.self.value.bias', True),\n ('model.transformer.encoder.layer.4.attention.output.dense.weight', False),\n ('model.transformer.encoder.layer.4.attention.output.dense.bias', True),\n ('model.transformer.encoder.layer.4.attention.output.LayerNorm.weight',\n  False),\n ('model.transformer.encoder.layer.4.attention.output.LayerNorm.bias', True),\n ('model.transformer.encoder.layer.4.intermediate.dense.weight', False),\n ('model.transformer.encoder.layer.4.intermediate.dense.bias', True),\n ('model.transformer.encoder.layer.4.output.dense.weight', False),\n ('model.transformer.encoder.layer.4.output.dense.bias', True),\n ('model.transformer.encoder.layer.4.output.LayerNorm.weight', False),\n ('model.transformer.encoder.layer.4.output.LayerNorm.bias', True),\n ('model.transformer.encoder.layer.5.attention.self.query.weight', False),\n ('model.transformer.encoder.layer.5.attention.self.query.bias', True),\n ('model.transformer.encoder.layer.5.attention.self.key.weight', False),\n ('model.transformer.encoder.layer.5.attention.self.key.bias', True),\n ('model.transformer.encoder.layer.5.attention.self.value.weight', False),\n ('model.transformer.encoder.layer.5.attention.self.value.bias', True),\n ('model.transformer.encoder.layer.5.attention.output.dense.weight', False),\n ('model.transformer.encoder.layer.5.attention.output.dense.bias', True),\n ('model.transformer.encoder.layer.5.attention.output.LayerNorm.weight',\n  False),\n ('model.transformer.encoder.layer.5.attention.output.LayerNorm.bias', True),\n ('model.transformer.encoder.layer.5.intermediate.dense.weight', False),\n ('model.transformer.encoder.layer.5.intermediate.dense.bias', True),\n ('model.transformer.encoder.layer.5.output.dense.weight', False),\n ('model.transformer.encoder.layer.5.output.dense.bias', True),\n ('model.transformer.encoder.layer.5.output.LayerNorm.weight', False),\n ('model.transformer.encoder.layer.5.output.LayerNorm.bias', True),\n ('model.transformer.encoder.layer.6.attention.self.query.weight', False),\n ('model.transformer.encoder.layer.6.attention.self.query.bias', True),\n ('model.transformer.encoder.layer.6.attention.self.key.weight', False),\n ('model.transformer.encoder.layer.6.attention.self.key.bias', True),\n ('model.transformer.encoder.layer.6.attention.self.value.weight', False),\n ('model.transformer.encoder.layer.6.attention.self.value.bias', True),\n ('model.transformer.encoder.layer.6.attention.output.dense.weight', False),\n ('model.transformer.encoder.layer.6.attention.output.dense.bias', True),\n ('model.transformer.encoder.layer.6.attention.output.LayerNorm.weight',\n  False),\n ('model.transformer.encoder.layer.6.attention.output.LayerNorm.bias', True),\n ('model.transformer.encoder.layer.6.intermediate.dense.weight', False),\n ('model.transformer.encoder.layer.6.intermediate.dense.bias', True),\n ('model.transformer.encoder.layer.6.output.dense.weight', False),\n ('model.transformer.encoder.layer.6.output.dense.bias', True),\n ('model.transformer.encoder.layer.6.output.LayerNorm.weight', False),\n ('model.transformer.encoder.layer.6.output.LayerNorm.bias', True),\n ('model.transformer.encoder.layer.7.attention.self.query.weight', False),\n ('model.transformer.encoder.layer.7.attention.self.query.bias', True),\n ('model.transformer.encoder.layer.7.attention.self.key.weight', False),\n ('model.transformer.encoder.layer.7.attention.self.key.bias', True),\n ('model.transformer.encoder.layer.7.attention.self.value.weight', False),\n ('model.transformer.encoder.layer.7.attention.self.value.bias', True),\n ('model.transformer.encoder.layer.7.attention.output.dense.weight', False),\n ('model.transformer.encoder.layer.7.attention.output.dense.bias', True),\n ('model.transformer.encoder.layer.7.attention.output.LayerNorm.weight',\n  False),\n ('model.transformer.encoder.layer.7.attention.output.LayerNorm.bias', True),\n ('model.transformer.encoder.layer.7.intermediate.dense.weight', False),\n ('model.transformer.encoder.layer.7.intermediate.dense.bias', True),\n ('model.transformer.encoder.layer.7.output.dense.weight', False),\n ('model.transformer.encoder.layer.7.output.dense.bias', True),\n ('model.transformer.encoder.layer.7.output.LayerNorm.weight', False),\n ('model.transformer.encoder.layer.7.output.LayerNorm.bias', True),\n ('model.transformer.encoder.layer.8.attention.self.query.weight', False),\n ('model.transformer.encoder.layer.8.attention.self.query.bias', True),\n ('model.transformer.encoder.layer.8.attention.self.key.weight', False),\n ('model.transformer.encoder.layer.8.attention.self.key.bias', True),\n ('model.transformer.encoder.layer.8.attention.self.value.weight', False),\n ('model.transformer.encoder.layer.8.attention.self.value.bias', True),\n ('model.transformer.encoder.layer.8.attention.output.dense.weight', False),\n ('model.transformer.encoder.layer.8.attention.output.dense.bias', True),\n ('model.transformer.encoder.layer.8.attention.output.LayerNorm.weight',\n  False),\n ('model.transformer.encoder.layer.8.attention.output.LayerNorm.bias', True),\n ('model.transformer.encoder.layer.8.intermediate.dense.weight', False),\n ('model.transformer.encoder.layer.8.intermediate.dense.bias', True),\n ('model.transformer.encoder.layer.8.output.dense.weight', False),\n ('model.transformer.encoder.layer.8.output.dense.bias', True),\n ('model.transformer.encoder.layer.8.output.LayerNorm.weight', False),\n ('model.transformer.encoder.layer.8.output.LayerNorm.bias', True),\n ('model.transformer.encoder.layer.9.attention.self.query.weight', False),\n ('model.transformer.encoder.layer.9.attention.self.query.bias', True),\n ('model.transformer.encoder.layer.9.attention.self.key.weight', False),\n ('model.transformer.encoder.layer.9.attention.self.key.bias', True),\n ('model.transformer.encoder.layer.9.attention.self.value.weight', False),\n ('model.transformer.encoder.layer.9.attention.self.value.bias', True),\n ('model.transformer.encoder.layer.9.attention.output.dense.weight', False),\n ('model.transformer.encoder.layer.9.attention.output.dense.bias', True),\n ('model.transformer.encoder.layer.9.attention.output.LayerNorm.weight',\n  False),\n ('model.transformer.encoder.layer.9.attention.output.LayerNorm.bias', True),\n ('model.transformer.encoder.layer.9.intermediate.dense.weight', False),\n ('model.transformer.encoder.layer.9.intermediate.dense.bias', True),\n ('model.transformer.encoder.layer.9.output.dense.weight', False),\n ('model.transformer.encoder.layer.9.output.dense.bias', True),\n ('model.transformer.encoder.layer.9.output.LayerNorm.weight', False),\n ('model.transformer.encoder.layer.9.output.LayerNorm.bias', True),\n ('model.transformer.encoder.layer.10.attention.self.query.weight', False),\n ('model.transformer.encoder.layer.10.attention.self.query.bias', True),\n ('model.transformer.encoder.layer.10.attention.self.key.weight', False),\n ('model.transformer.encoder.layer.10.attention.self.key.bias', True),\n ('model.transformer.encoder.layer.10.attention.self.value.weight', False),\n ('model.transformer.encoder.layer.10.attention.self.value.bias', True),\n ('model.transformer.encoder.layer.10.attention.output.dense.weight', False),\n ('model.transformer.encoder.layer.10.attention.output.dense.bias', True),\n ('model.transformer.encoder.layer.10.attention.output.LayerNorm.weight',\n  False),\n ('model.transformer.encoder.layer.10.attention.output.LayerNorm.bias', True),\n ('model.transformer.encoder.layer.10.intermediate.dense.weight', False),\n ('model.transformer.encoder.layer.10.intermediate.dense.bias', True),\n ('model.transformer.encoder.layer.10.output.dense.weight', False),\n ('model.transformer.encoder.layer.10.output.dense.bias', True),\n ('model.transformer.encoder.layer.10.output.LayerNorm.weight', False),\n ('model.transformer.encoder.layer.10.output.LayerNorm.bias', True),\n ('model.transformer.encoder.layer.11.attention.self.query.weight', False),\n ('model.transformer.encoder.layer.11.attention.self.query.bias', True),\n ('model.transformer.encoder.layer.11.attention.self.key.weight', False),\n ('model.transformer.encoder.layer.11.attention.self.key.bias', True),\n ('model.transformer.encoder.layer.11.attention.self.value.weight', False),\n ('model.transformer.encoder.layer.11.attention.self.value.bias', True),\n ('model.transformer.encoder.layer.11.attention.output.dense.weight', False),\n ('model.transformer.encoder.layer.11.attention.output.dense.bias', True),\n ('model.transformer.encoder.layer.11.attention.output.LayerNorm.weight',\n  False),\n ('model.transformer.encoder.layer.11.attention.output.LayerNorm.bias', True),\n ('model.transformer.encoder.layer.11.intermediate.dense.weight', False),\n ('model.transformer.encoder.layer.11.intermediate.dense.bias', True),\n ('model.transformer.encoder.layer.11.output.dense.weight', False),\n ('model.transformer.encoder.layer.11.output.dense.bias', True),\n ('model.transformer.encoder.layer.11.output.LayerNorm.weight', False),\n ('model.transformer.encoder.layer.11.output.LayerNorm.bias', True),\n ('model.out.weight', False),\n ('model.out.bias', True)]"
     },
     "execution_count": 7,
     "metadata": {},
     "output_type": "execute_result"
    }
   ],
   "source": [
    "nn.model.setup_bitfit_fine_tuning()\n",
    "[(k, v.requires_grad) for k, v in nn.named_parameters()]"
   ],
   "metadata": {
    "collapsed": false,
    "ExecuteTime": {
     "end_time": "2023-06-24T17:07:03.162967654Z",
     "start_time": "2023-06-24T17:07:03.120328043Z"
    }
   }
  },
  {
   "cell_type": "code",
   "execution_count": 8,
   "outputs": [
    {
     "data": {
      "text/plain": "[('model.transformer.embeddings.word_embeddings.weight', True),\n ('model.transformer.embeddings.position_embeddings.weight', True),\n ('model.transformer.embeddings.token_type_embeddings.weight', True),\n ('model.transformer.embeddings.LayerNorm.weight', True),\n ('model.transformer.embeddings.LayerNorm.bias', True),\n ('model.transformer.encoder.layer.0.attention.self.query.weight', True),\n ('model.transformer.encoder.layer.0.attention.self.query.bias', True),\n ('model.transformer.encoder.layer.0.attention.self.key.weight', True),\n ('model.transformer.encoder.layer.0.attention.self.key.bias', True),\n ('model.transformer.encoder.layer.0.attention.self.value.weight', True),\n ('model.transformer.encoder.layer.0.attention.self.value.bias', True),\n ('model.transformer.encoder.layer.0.attention.output.dense.weight', True),\n ('model.transformer.encoder.layer.0.attention.output.dense.bias', True),\n ('model.transformer.encoder.layer.0.attention.output.LayerNorm.weight', True),\n ('model.transformer.encoder.layer.0.attention.output.LayerNorm.bias', True),\n ('model.transformer.encoder.layer.0.intermediate.dense.weight', True),\n ('model.transformer.encoder.layer.0.intermediate.dense.bias', True),\n ('model.transformer.encoder.layer.0.output.dense.weight', True),\n ('model.transformer.encoder.layer.0.output.dense.bias', True),\n ('model.transformer.encoder.layer.0.output.LayerNorm.weight', True),\n ('model.transformer.encoder.layer.0.output.LayerNorm.bias', True),\n ('model.transformer.encoder.layer.1.attention.self.query.weight', True),\n ('model.transformer.encoder.layer.1.attention.self.query.bias', True),\n ('model.transformer.encoder.layer.1.attention.self.key.weight', True),\n ('model.transformer.encoder.layer.1.attention.self.key.bias', True),\n ('model.transformer.encoder.layer.1.attention.self.value.weight', True),\n ('model.transformer.encoder.layer.1.attention.self.value.bias', True),\n ('model.transformer.encoder.layer.1.attention.output.dense.weight', True),\n ('model.transformer.encoder.layer.1.attention.output.dense.bias', True),\n ('model.transformer.encoder.layer.1.attention.output.LayerNorm.weight', True),\n ('model.transformer.encoder.layer.1.attention.output.LayerNorm.bias', True),\n ('model.transformer.encoder.layer.1.intermediate.dense.weight', True),\n ('model.transformer.encoder.layer.1.intermediate.dense.bias', True),\n ('model.transformer.encoder.layer.1.output.dense.weight', True),\n ('model.transformer.encoder.layer.1.output.dense.bias', True),\n ('model.transformer.encoder.layer.1.output.LayerNorm.weight', True),\n ('model.transformer.encoder.layer.1.output.LayerNorm.bias', True),\n ('model.transformer.encoder.layer.2.attention.self.query.weight', True),\n ('model.transformer.encoder.layer.2.attention.self.query.bias', True),\n ('model.transformer.encoder.layer.2.attention.self.key.weight', True),\n ('model.transformer.encoder.layer.2.attention.self.key.bias', True),\n ('model.transformer.encoder.layer.2.attention.self.value.weight', True),\n ('model.transformer.encoder.layer.2.attention.self.value.bias', True),\n ('model.transformer.encoder.layer.2.attention.output.dense.weight', True),\n ('model.transformer.encoder.layer.2.attention.output.dense.bias', True),\n ('model.transformer.encoder.layer.2.attention.output.LayerNorm.weight', True),\n ('model.transformer.encoder.layer.2.attention.output.LayerNorm.bias', True),\n ('model.transformer.encoder.layer.2.intermediate.dense.weight', True),\n ('model.transformer.encoder.layer.2.intermediate.dense.bias', True),\n ('model.transformer.encoder.layer.2.output.dense.weight', True),\n ('model.transformer.encoder.layer.2.output.dense.bias', True),\n ('model.transformer.encoder.layer.2.output.LayerNorm.weight', True),\n ('model.transformer.encoder.layer.2.output.LayerNorm.bias', True),\n ('model.transformer.encoder.layer.3.attention.self.query.weight', True),\n ('model.transformer.encoder.layer.3.attention.self.query.bias', True),\n ('model.transformer.encoder.layer.3.attention.self.key.weight', True),\n ('model.transformer.encoder.layer.3.attention.self.key.bias', True),\n ('model.transformer.encoder.layer.3.attention.self.value.weight', True),\n ('model.transformer.encoder.layer.3.attention.self.value.bias', True),\n ('model.transformer.encoder.layer.3.attention.output.dense.weight', True),\n ('model.transformer.encoder.layer.3.attention.output.dense.bias', True),\n ('model.transformer.encoder.layer.3.attention.output.LayerNorm.weight', True),\n ('model.transformer.encoder.layer.3.attention.output.LayerNorm.bias', True),\n ('model.transformer.encoder.layer.3.intermediate.dense.weight', True),\n ('model.transformer.encoder.layer.3.intermediate.dense.bias', True),\n ('model.transformer.encoder.layer.3.output.dense.weight', True),\n ('model.transformer.encoder.layer.3.output.dense.bias', True),\n ('model.transformer.encoder.layer.3.output.LayerNorm.weight', True),\n ('model.transformer.encoder.layer.3.output.LayerNorm.bias', True),\n ('model.transformer.encoder.layer.4.attention.self.query.weight', True),\n ('model.transformer.encoder.layer.4.attention.self.query.bias', True),\n ('model.transformer.encoder.layer.4.attention.self.key.weight', True),\n ('model.transformer.encoder.layer.4.attention.self.key.bias', True),\n ('model.transformer.encoder.layer.4.attention.self.value.weight', True),\n ('model.transformer.encoder.layer.4.attention.self.value.bias', True),\n ('model.transformer.encoder.layer.4.attention.output.dense.weight', True),\n ('model.transformer.encoder.layer.4.attention.output.dense.bias', True),\n ('model.transformer.encoder.layer.4.attention.output.LayerNorm.weight', True),\n ('model.transformer.encoder.layer.4.attention.output.LayerNorm.bias', True),\n ('model.transformer.encoder.layer.4.intermediate.dense.weight', True),\n ('model.transformer.encoder.layer.4.intermediate.dense.bias', True),\n ('model.transformer.encoder.layer.4.output.dense.weight', True),\n ('model.transformer.encoder.layer.4.output.dense.bias', True),\n ('model.transformer.encoder.layer.4.output.LayerNorm.weight', True),\n ('model.transformer.encoder.layer.4.output.LayerNorm.bias', True),\n ('model.transformer.encoder.layer.5.attention.self.query.weight', True),\n ('model.transformer.encoder.layer.5.attention.self.query.bias', True),\n ('model.transformer.encoder.layer.5.attention.self.key.weight', True),\n ('model.transformer.encoder.layer.5.attention.self.key.bias', True),\n ('model.transformer.encoder.layer.5.attention.self.value.weight', True),\n ('model.transformer.encoder.layer.5.attention.self.value.bias', True),\n ('model.transformer.encoder.layer.5.attention.output.dense.weight', True),\n ('model.transformer.encoder.layer.5.attention.output.dense.bias', True),\n ('model.transformer.encoder.layer.5.attention.output.LayerNorm.weight', True),\n ('model.transformer.encoder.layer.5.attention.output.LayerNorm.bias', True),\n ('model.transformer.encoder.layer.5.intermediate.dense.weight', True),\n ('model.transformer.encoder.layer.5.intermediate.dense.bias', True),\n ('model.transformer.encoder.layer.5.output.dense.weight', True),\n ('model.transformer.encoder.layer.5.output.dense.bias', True),\n ('model.transformer.encoder.layer.5.output.LayerNorm.weight', True),\n ('model.transformer.encoder.layer.5.output.LayerNorm.bias', True),\n ('model.transformer.encoder.layer.6.attention.self.query.weight', True),\n ('model.transformer.encoder.layer.6.attention.self.query.bias', True),\n ('model.transformer.encoder.layer.6.attention.self.key.weight', True),\n ('model.transformer.encoder.layer.6.attention.self.key.bias', True),\n ('model.transformer.encoder.layer.6.attention.self.value.weight', True),\n ('model.transformer.encoder.layer.6.attention.self.value.bias', True),\n ('model.transformer.encoder.layer.6.attention.output.dense.weight', True),\n ('model.transformer.encoder.layer.6.attention.output.dense.bias', True),\n ('model.transformer.encoder.layer.6.attention.output.LayerNorm.weight', True),\n ('model.transformer.encoder.layer.6.attention.output.LayerNorm.bias', True),\n ('model.transformer.encoder.layer.6.intermediate.dense.weight', True),\n ('model.transformer.encoder.layer.6.intermediate.dense.bias', True),\n ('model.transformer.encoder.layer.6.output.dense.weight', True),\n ('model.transformer.encoder.layer.6.output.dense.bias', True),\n ('model.transformer.encoder.layer.6.output.LayerNorm.weight', True),\n ('model.transformer.encoder.layer.6.output.LayerNorm.bias', True),\n ('model.transformer.encoder.layer.7.attention.self.query.weight', True),\n ('model.transformer.encoder.layer.7.attention.self.query.bias', True),\n ('model.transformer.encoder.layer.7.attention.self.key.weight', True),\n ('model.transformer.encoder.layer.7.attention.self.key.bias', True),\n ('model.transformer.encoder.layer.7.attention.self.value.weight', True),\n ('model.transformer.encoder.layer.7.attention.self.value.bias', True),\n ('model.transformer.encoder.layer.7.attention.output.dense.weight', True),\n ('model.transformer.encoder.layer.7.attention.output.dense.bias', True),\n ('model.transformer.encoder.layer.7.attention.output.LayerNorm.weight', True),\n ('model.transformer.encoder.layer.7.attention.output.LayerNorm.bias', True),\n ('model.transformer.encoder.layer.7.intermediate.dense.weight', True),\n ('model.transformer.encoder.layer.7.intermediate.dense.bias', True),\n ('model.transformer.encoder.layer.7.output.dense.weight', True),\n ('model.transformer.encoder.layer.7.output.dense.bias', True),\n ('model.transformer.encoder.layer.7.output.LayerNorm.weight', True),\n ('model.transformer.encoder.layer.7.output.LayerNorm.bias', True),\n ('model.transformer.encoder.layer.8.attention.self.query.weight', True),\n ('model.transformer.encoder.layer.8.attention.self.query.bias', True),\n ('model.transformer.encoder.layer.8.attention.self.key.weight', True),\n ('model.transformer.encoder.layer.8.attention.self.key.bias', True),\n ('model.transformer.encoder.layer.8.attention.self.value.weight', True),\n ('model.transformer.encoder.layer.8.attention.self.value.bias', True),\n ('model.transformer.encoder.layer.8.attention.output.dense.weight', True),\n ('model.transformer.encoder.layer.8.attention.output.dense.bias', True),\n ('model.transformer.encoder.layer.8.attention.output.LayerNorm.weight', True),\n ('model.transformer.encoder.layer.8.attention.output.LayerNorm.bias', True),\n ('model.transformer.encoder.layer.8.intermediate.dense.weight', True),\n ('model.transformer.encoder.layer.8.intermediate.dense.bias', True),\n ('model.transformer.encoder.layer.8.output.dense.weight', True),\n ('model.transformer.encoder.layer.8.output.dense.bias', True),\n ('model.transformer.encoder.layer.8.output.LayerNorm.weight', True),\n ('model.transformer.encoder.layer.8.output.LayerNorm.bias', True),\n ('model.transformer.encoder.layer.9.attention.self.query.weight', True),\n ('model.transformer.encoder.layer.9.attention.self.query.bias', True),\n ('model.transformer.encoder.layer.9.attention.self.key.weight', True),\n ('model.transformer.encoder.layer.9.attention.self.key.bias', True),\n ('model.transformer.encoder.layer.9.attention.self.value.weight', True),\n ('model.transformer.encoder.layer.9.attention.self.value.bias', True),\n ('model.transformer.encoder.layer.9.attention.output.dense.weight', True),\n ('model.transformer.encoder.layer.9.attention.output.dense.bias', True),\n ('model.transformer.encoder.layer.9.attention.output.LayerNorm.weight', True),\n ('model.transformer.encoder.layer.9.attention.output.LayerNorm.bias', True),\n ('model.transformer.encoder.layer.9.intermediate.dense.weight', True),\n ('model.transformer.encoder.layer.9.intermediate.dense.bias', True),\n ('model.transformer.encoder.layer.9.output.dense.weight', True),\n ('model.transformer.encoder.layer.9.output.dense.bias', True),\n ('model.transformer.encoder.layer.9.output.LayerNorm.weight', True),\n ('model.transformer.encoder.layer.9.output.LayerNorm.bias', True),\n ('model.transformer.encoder.layer.10.attention.self.query.weight', True),\n ('model.transformer.encoder.layer.10.attention.self.query.bias', True),\n ('model.transformer.encoder.layer.10.attention.self.key.weight', True),\n ('model.transformer.encoder.layer.10.attention.self.key.bias', True),\n ('model.transformer.encoder.layer.10.attention.self.value.weight', True),\n ('model.transformer.encoder.layer.10.attention.self.value.bias', True),\n ('model.transformer.encoder.layer.10.attention.output.dense.weight', True),\n ('model.transformer.encoder.layer.10.attention.output.dense.bias', True),\n ('model.transformer.encoder.layer.10.attention.output.LayerNorm.weight',\n  True),\n ('model.transformer.encoder.layer.10.attention.output.LayerNorm.bias', True),\n ('model.transformer.encoder.layer.10.intermediate.dense.weight', True),\n ('model.transformer.encoder.layer.10.intermediate.dense.bias', True),\n ('model.transformer.encoder.layer.10.output.dense.weight', True),\n ('model.transformer.encoder.layer.10.output.dense.bias', True),\n ('model.transformer.encoder.layer.10.output.LayerNorm.weight', True),\n ('model.transformer.encoder.layer.10.output.LayerNorm.bias', True),\n ('model.transformer.encoder.layer.11.attention.self.query.weight', True),\n ('model.transformer.encoder.layer.11.attention.self.query.bias', True),\n ('model.transformer.encoder.layer.11.attention.self.key.weight', True),\n ('model.transformer.encoder.layer.11.attention.self.key.bias', True),\n ('model.transformer.encoder.layer.11.attention.self.value.weight', True),\n ('model.transformer.encoder.layer.11.attention.self.value.bias', True),\n ('model.transformer.encoder.layer.11.attention.output.dense.weight', True),\n ('model.transformer.encoder.layer.11.attention.output.dense.bias', True),\n ('model.transformer.encoder.layer.11.attention.output.LayerNorm.weight',\n  True),\n ('model.transformer.encoder.layer.11.attention.output.LayerNorm.bias', True),\n ('model.transformer.encoder.layer.11.intermediate.dense.weight', True),\n ('model.transformer.encoder.layer.11.intermediate.dense.bias', True),\n ('model.transformer.encoder.layer.11.output.dense.weight', True),\n ('model.transformer.encoder.layer.11.output.dense.bias', True),\n ('model.transformer.encoder.layer.11.output.LayerNorm.weight', True),\n ('model.transformer.encoder.layer.11.output.LayerNorm.bias', True),\n ('model.out.weight', True),\n ('model.out.bias', True)]"
     },
     "execution_count": 8,
     "metadata": {},
     "output_type": "execute_result"
    }
   ],
   "source": [
    "nn.model.setup_fully_fine_tuning()\n",
    "[(k, v.requires_grad) for k, v in nn.named_parameters()]"
   ],
   "metadata": {
    "collapsed": false,
    "ExecuteTime": {
     "end_time": "2023-06-24T17:07:03.166038813Z",
     "start_time": "2023-06-24T17:07:03.137436686Z"
    }
   }
  },
  {
   "cell_type": "code",
   "execution_count": 9,
   "outputs": [
    {
     "name": "stdout",
     "output_type": "stream",
     "text": [
      "[('model.transformer.embeddings.word_embeddings.weight', False), ('model.transformer.embeddings.position_embeddings.weight', False), ('model.transformer.embeddings.token_type_embeddings.weight', False), ('model.transformer.embeddings.LayerNorm.weight', False), ('model.transformer.embeddings.LayerNorm.bias', True), ('model.transformer.encoder.layer.0.attention.self.query.weight', False), ('model.transformer.encoder.layer.0.attention.self.query.bias', True), ('model.transformer.encoder.layer.0.attention.self.key.weight', False), ('model.transformer.encoder.layer.0.attention.self.key.bias', True), ('model.transformer.encoder.layer.0.attention.self.value.weight', False), ('model.transformer.encoder.layer.0.attention.self.value.bias', True), ('model.transformer.encoder.layer.0.attention.output.dense.weight', False), ('model.transformer.encoder.layer.0.attention.output.dense.bias', True), ('model.transformer.encoder.layer.0.attention.output.LayerNorm.weight', False), ('model.transformer.encoder.layer.0.attention.output.LayerNorm.bias', True), ('model.transformer.encoder.layer.0.intermediate.dense.weight', False), ('model.transformer.encoder.layer.0.intermediate.dense.bias', True), ('model.transformer.encoder.layer.0.output.dense.weight', False), ('model.transformer.encoder.layer.0.output.dense.bias', True), ('model.transformer.encoder.layer.0.output.LayerNorm.weight', False), ('model.transformer.encoder.layer.0.output.LayerNorm.bias', True), ('model.transformer.encoder.layer.1.attention.self.query.weight', False), ('model.transformer.encoder.layer.1.attention.self.query.bias', True), ('model.transformer.encoder.layer.1.attention.self.key.weight', False), ('model.transformer.encoder.layer.1.attention.self.key.bias', True), ('model.transformer.encoder.layer.1.attention.self.value.weight', False), ('model.transformer.encoder.layer.1.attention.self.value.bias', True), ('model.transformer.encoder.layer.1.attention.output.dense.weight', False), ('model.transformer.encoder.layer.1.attention.output.dense.bias', True), ('model.transformer.encoder.layer.1.attention.output.LayerNorm.weight', False), ('model.transformer.encoder.layer.1.attention.output.LayerNorm.bias', True), ('model.transformer.encoder.layer.1.intermediate.dense.weight', False), ('model.transformer.encoder.layer.1.intermediate.dense.bias', True), ('model.transformer.encoder.layer.1.output.dense.weight', False), ('model.transformer.encoder.layer.1.output.dense.bias', True), ('model.transformer.encoder.layer.1.output.LayerNorm.weight', False), ('model.transformer.encoder.layer.1.output.LayerNorm.bias', True), ('model.transformer.encoder.layer.2.attention.self.query.weight', False), ('model.transformer.encoder.layer.2.attention.self.query.bias', True), ('model.transformer.encoder.layer.2.attention.self.key.weight', False), ('model.transformer.encoder.layer.2.attention.self.key.bias', True), ('model.transformer.encoder.layer.2.attention.self.value.weight', False), ('model.transformer.encoder.layer.2.attention.self.value.bias', True), ('model.transformer.encoder.layer.2.attention.output.dense.weight', False), ('model.transformer.encoder.layer.2.attention.output.dense.bias', True), ('model.transformer.encoder.layer.2.attention.output.LayerNorm.weight', False), ('model.transformer.encoder.layer.2.attention.output.LayerNorm.bias', True), ('model.transformer.encoder.layer.2.intermediate.dense.weight', False), ('model.transformer.encoder.layer.2.intermediate.dense.bias', True), ('model.transformer.encoder.layer.2.output.dense.weight', False), ('model.transformer.encoder.layer.2.output.dense.bias', True), ('model.transformer.encoder.layer.2.output.LayerNorm.weight', False), ('model.transformer.encoder.layer.2.output.LayerNorm.bias', True), ('model.transformer.encoder.layer.3.attention.self.query.weight', False), ('model.transformer.encoder.layer.3.attention.self.query.bias', True), ('model.transformer.encoder.layer.3.attention.self.key.weight', False), ('model.transformer.encoder.layer.3.attention.self.key.bias', True), ('model.transformer.encoder.layer.3.attention.self.value.weight', False), ('model.transformer.encoder.layer.3.attention.self.value.bias', True), ('model.transformer.encoder.layer.3.attention.output.dense.weight', False), ('model.transformer.encoder.layer.3.attention.output.dense.bias', True), ('model.transformer.encoder.layer.3.attention.output.LayerNorm.weight', False), ('model.transformer.encoder.layer.3.attention.output.LayerNorm.bias', True), ('model.transformer.encoder.layer.3.intermediate.dense.weight', False), ('model.transformer.encoder.layer.3.intermediate.dense.bias', True), ('model.transformer.encoder.layer.3.output.dense.weight', False), ('model.transformer.encoder.layer.3.output.dense.bias', True), ('model.transformer.encoder.layer.3.output.LayerNorm.weight', False), ('model.transformer.encoder.layer.3.output.LayerNorm.bias', True), ('model.transformer.encoder.layer.4.attention.self.query.weight', False), ('model.transformer.encoder.layer.4.attention.self.query.bias', True), ('model.transformer.encoder.layer.4.attention.self.key.weight', False), ('model.transformer.encoder.layer.4.attention.self.key.bias', True), ('model.transformer.encoder.layer.4.attention.self.value.weight', False), ('model.transformer.encoder.layer.4.attention.self.value.bias', True), ('model.transformer.encoder.layer.4.attention.output.dense.weight', False), ('model.transformer.encoder.layer.4.attention.output.dense.bias', True), ('model.transformer.encoder.layer.4.attention.output.LayerNorm.weight', False), ('model.transformer.encoder.layer.4.attention.output.LayerNorm.bias', True), ('model.transformer.encoder.layer.4.intermediate.dense.weight', False), ('model.transformer.encoder.layer.4.intermediate.dense.bias', True), ('model.transformer.encoder.layer.4.output.dense.weight', False), ('model.transformer.encoder.layer.4.output.dense.bias', True), ('model.transformer.encoder.layer.4.output.LayerNorm.weight', False), ('model.transformer.encoder.layer.4.output.LayerNorm.bias', True), ('model.transformer.encoder.layer.5.attention.self.query.weight', False), ('model.transformer.encoder.layer.5.attention.self.query.bias', True), ('model.transformer.encoder.layer.5.attention.self.key.weight', False), ('model.transformer.encoder.layer.5.attention.self.key.bias', True), ('model.transformer.encoder.layer.5.attention.self.value.weight', False), ('model.transformer.encoder.layer.5.attention.self.value.bias', True), ('model.transformer.encoder.layer.5.attention.output.dense.weight', False), ('model.transformer.encoder.layer.5.attention.output.dense.bias', True), ('model.transformer.encoder.layer.5.attention.output.LayerNorm.weight', False), ('model.transformer.encoder.layer.5.attention.output.LayerNorm.bias', True), ('model.transformer.encoder.layer.5.intermediate.dense.weight', False), ('model.transformer.encoder.layer.5.intermediate.dense.bias', True), ('model.transformer.encoder.layer.5.output.dense.weight', False), ('model.transformer.encoder.layer.5.output.dense.bias', True), ('model.transformer.encoder.layer.5.output.LayerNorm.weight', False), ('model.transformer.encoder.layer.5.output.LayerNorm.bias', True), ('model.transformer.encoder.layer.6.attention.self.query.weight', False), ('model.transformer.encoder.layer.6.attention.self.query.bias', True), ('model.transformer.encoder.layer.6.attention.self.key.weight', False), ('model.transformer.encoder.layer.6.attention.self.key.bias', True), ('model.transformer.encoder.layer.6.attention.self.value.weight', False), ('model.transformer.encoder.layer.6.attention.self.value.bias', True), ('model.transformer.encoder.layer.6.attention.output.dense.weight', False), ('model.transformer.encoder.layer.6.attention.output.dense.bias', True), ('model.transformer.encoder.layer.6.attention.output.LayerNorm.weight', False), ('model.transformer.encoder.layer.6.attention.output.LayerNorm.bias', True), ('model.transformer.encoder.layer.6.intermediate.dense.weight', False), ('model.transformer.encoder.layer.6.intermediate.dense.bias', True), ('model.transformer.encoder.layer.6.output.dense.weight', False), ('model.transformer.encoder.layer.6.output.dense.bias', True), ('model.transformer.encoder.layer.6.output.LayerNorm.weight', False), ('model.transformer.encoder.layer.6.output.LayerNorm.bias', True), ('model.transformer.encoder.layer.7.attention.self.query.weight', False), ('model.transformer.encoder.layer.7.attention.self.query.bias', True), ('model.transformer.encoder.layer.7.attention.self.key.weight', False), ('model.transformer.encoder.layer.7.attention.self.key.bias', True), ('model.transformer.encoder.layer.7.attention.self.value.weight', False), ('model.transformer.encoder.layer.7.attention.self.value.bias', True), ('model.transformer.encoder.layer.7.attention.output.dense.weight', False), ('model.transformer.encoder.layer.7.attention.output.dense.bias', True), ('model.transformer.encoder.layer.7.attention.output.LayerNorm.weight', False), ('model.transformer.encoder.layer.7.attention.output.LayerNorm.bias', True), ('model.transformer.encoder.layer.7.intermediate.dense.weight', False), ('model.transformer.encoder.layer.7.intermediate.dense.bias', True), ('model.transformer.encoder.layer.7.output.dense.weight', False), ('model.transformer.encoder.layer.7.output.dense.bias', True), ('model.transformer.encoder.layer.7.output.LayerNorm.weight', False), ('model.transformer.encoder.layer.7.output.LayerNorm.bias', True), ('model.transformer.encoder.layer.8.attention.self.query.weight', False), ('model.transformer.encoder.layer.8.attention.self.query.bias', True), ('model.transformer.encoder.layer.8.attention.self.key.weight', False), ('model.transformer.encoder.layer.8.attention.self.key.bias', True), ('model.transformer.encoder.layer.8.attention.self.value.weight', False), ('model.transformer.encoder.layer.8.attention.self.value.bias', True), ('model.transformer.encoder.layer.8.attention.output.dense.weight', False), ('model.transformer.encoder.layer.8.attention.output.dense.bias', True), ('model.transformer.encoder.layer.8.attention.output.LayerNorm.weight', False), ('model.transformer.encoder.layer.8.attention.output.LayerNorm.bias', True), ('model.transformer.encoder.layer.8.intermediate.dense.weight', False), ('model.transformer.encoder.layer.8.intermediate.dense.bias', True), ('model.transformer.encoder.layer.8.output.dense.weight', False), ('model.transformer.encoder.layer.8.output.dense.bias', True), ('model.transformer.encoder.layer.8.output.LayerNorm.weight', False), ('model.transformer.encoder.layer.8.output.LayerNorm.bias', True), ('model.transformer.encoder.layer.9.attention.self.query.weight', False), ('model.transformer.encoder.layer.9.attention.self.query.bias', True), ('model.transformer.encoder.layer.9.attention.self.key.weight', False), ('model.transformer.encoder.layer.9.attention.self.key.bias', True), ('model.transformer.encoder.layer.9.attention.self.value.weight', False), ('model.transformer.encoder.layer.9.attention.self.value.bias', True), ('model.transformer.encoder.layer.9.attention.output.dense.weight', False), ('model.transformer.encoder.layer.9.attention.output.dense.bias', True), ('model.transformer.encoder.layer.9.attention.output.LayerNorm.weight', False), ('model.transformer.encoder.layer.9.attention.output.LayerNorm.bias', True), ('model.transformer.encoder.layer.9.intermediate.dense.weight', False), ('model.transformer.encoder.layer.9.intermediate.dense.bias', True), ('model.transformer.encoder.layer.9.output.dense.weight', False), ('model.transformer.encoder.layer.9.output.dense.bias', True), ('model.transformer.encoder.layer.9.output.LayerNorm.weight', False), ('model.transformer.encoder.layer.9.output.LayerNorm.bias', True), ('model.transformer.encoder.layer.10.attention.self.query.weight', False), ('model.transformer.encoder.layer.10.attention.self.query.bias', True), ('model.transformer.encoder.layer.10.attention.self.key.weight', False), ('model.transformer.encoder.layer.10.attention.self.key.bias', True), ('model.transformer.encoder.layer.10.attention.self.value.weight', False), ('model.transformer.encoder.layer.10.attention.self.value.bias', True), ('model.transformer.encoder.layer.10.attention.output.dense.weight', False), ('model.transformer.encoder.layer.10.attention.output.dense.bias', True), ('model.transformer.encoder.layer.10.attention.output.LayerNorm.weight', False), ('model.transformer.encoder.layer.10.attention.output.LayerNorm.bias', True), ('model.transformer.encoder.layer.10.intermediate.dense.weight', False), ('model.transformer.encoder.layer.10.intermediate.dense.bias', True), ('model.transformer.encoder.layer.10.output.dense.weight', False), ('model.transformer.encoder.layer.10.output.dense.bias', True), ('model.transformer.encoder.layer.10.output.LayerNorm.weight', False), ('model.transformer.encoder.layer.10.output.LayerNorm.bias', True), ('model.transformer.encoder.layer.11.attention.self.query.weight', False), ('model.transformer.encoder.layer.11.attention.self.query.bias', True), ('model.transformer.encoder.layer.11.attention.self.key.weight', False), ('model.transformer.encoder.layer.11.attention.self.key.bias', True), ('model.transformer.encoder.layer.11.attention.self.value.weight', False), ('model.transformer.encoder.layer.11.attention.self.value.bias', True), ('model.transformer.encoder.layer.11.attention.output.dense.weight', False), ('model.transformer.encoder.layer.11.attention.output.dense.bias', True), ('model.transformer.encoder.layer.11.attention.output.LayerNorm.weight', False), ('model.transformer.encoder.layer.11.attention.output.LayerNorm.bias', True), ('model.transformer.encoder.layer.11.intermediate.dense.weight', False), ('model.transformer.encoder.layer.11.intermediate.dense.bias', True), ('model.transformer.encoder.layer.11.output.dense.weight', False), ('model.transformer.encoder.layer.11.output.dense.bias', True), ('model.transformer.encoder.layer.11.output.LayerNorm.weight', False), ('model.transformer.encoder.layer.11.output.LayerNorm.bias', True), ('model.out.weight', False), ('model.out.bias', True)]\n",
      "\n",
      "\n",
      "[('model.transformer.embeddings.word_embeddings.weight', False), ('model.transformer.embeddings.position_embeddings.weight', False), ('model.transformer.embeddings.token_type_embeddings.weight', False), ('model.transformer.embeddings.LayerNorm.weight', False), ('model.transformer.embeddings.LayerNorm.bias', True), ('model.transformer.encoder.layer.0.attention.self.query.weight', False), ('model.transformer.encoder.layer.0.attention.self.query.bias', True), ('model.transformer.encoder.layer.0.attention.self.key.weight', False), ('model.transformer.encoder.layer.0.attention.self.key.bias', True), ('model.transformer.encoder.layer.0.attention.self.value.weight', False), ('model.transformer.encoder.layer.0.attention.self.value.bias', True), ('model.transformer.encoder.layer.0.attention.output.dense.weight', False), ('model.transformer.encoder.layer.0.attention.output.dense.bias', True), ('model.transformer.encoder.layer.0.attention.output.LayerNorm.weight', False), ('model.transformer.encoder.layer.0.attention.output.LayerNorm.bias', True), ('model.transformer.encoder.layer.0.intermediate.dense.weight', False), ('model.transformer.encoder.layer.0.intermediate.dense.bias', True), ('model.transformer.encoder.layer.0.output.dense.weight', False), ('model.transformer.encoder.layer.0.output.dense.bias', True), ('model.transformer.encoder.layer.0.output.LayerNorm.weight', False), ('model.transformer.encoder.layer.0.output.LayerNorm.bias', True), ('model.transformer.encoder.layer.1.attention.self.query.weight', False), ('model.transformer.encoder.layer.1.attention.self.query.bias', True), ('model.transformer.encoder.layer.1.attention.self.key.weight', False), ('model.transformer.encoder.layer.1.attention.self.key.bias', True), ('model.transformer.encoder.layer.1.attention.self.value.weight', False), ('model.transformer.encoder.layer.1.attention.self.value.bias', True), ('model.transformer.encoder.layer.1.attention.output.dense.weight', False), ('model.transformer.encoder.layer.1.attention.output.dense.bias', True), ('model.transformer.encoder.layer.1.attention.output.LayerNorm.weight', False), ('model.transformer.encoder.layer.1.attention.output.LayerNorm.bias', True), ('model.transformer.encoder.layer.1.intermediate.dense.weight', False), ('model.transformer.encoder.layer.1.intermediate.dense.bias', True), ('model.transformer.encoder.layer.1.output.dense.weight', False), ('model.transformer.encoder.layer.1.output.dense.bias', True), ('model.transformer.encoder.layer.1.output.LayerNorm.weight', False), ('model.transformer.encoder.layer.1.output.LayerNorm.bias', True), ('model.transformer.encoder.layer.2.attention.self.query.weight', False), ('model.transformer.encoder.layer.2.attention.self.query.bias', True), ('model.transformer.encoder.layer.2.attention.self.key.weight', False), ('model.transformer.encoder.layer.2.attention.self.key.bias', True), ('model.transformer.encoder.layer.2.attention.self.value.weight', False), ('model.transformer.encoder.layer.2.attention.self.value.bias', True), ('model.transformer.encoder.layer.2.attention.output.dense.weight', False), ('model.transformer.encoder.layer.2.attention.output.dense.bias', True), ('model.transformer.encoder.layer.2.attention.output.LayerNorm.weight', False), ('model.transformer.encoder.layer.2.attention.output.LayerNorm.bias', True), ('model.transformer.encoder.layer.2.intermediate.dense.weight', False), ('model.transformer.encoder.layer.2.intermediate.dense.bias', True), ('model.transformer.encoder.layer.2.output.dense.weight', False), ('model.transformer.encoder.layer.2.output.dense.bias', True), ('model.transformer.encoder.layer.2.output.LayerNorm.weight', False), ('model.transformer.encoder.layer.2.output.LayerNorm.bias', True), ('model.transformer.encoder.layer.3.attention.self.query.weight', False), ('model.transformer.encoder.layer.3.attention.self.query.bias', True), ('model.transformer.encoder.layer.3.attention.self.key.weight', False), ('model.transformer.encoder.layer.3.attention.self.key.bias', True), ('model.transformer.encoder.layer.3.attention.self.value.weight', False), ('model.transformer.encoder.layer.3.attention.self.value.bias', True), ('model.transformer.encoder.layer.3.attention.output.dense.weight', False), ('model.transformer.encoder.layer.3.attention.output.dense.bias', True), ('model.transformer.encoder.layer.3.attention.output.LayerNorm.weight', False), ('model.transformer.encoder.layer.3.attention.output.LayerNorm.bias', True), ('model.transformer.encoder.layer.3.intermediate.dense.weight', False), ('model.transformer.encoder.layer.3.intermediate.dense.bias', True), ('model.transformer.encoder.layer.3.output.dense.weight', False), ('model.transformer.encoder.layer.3.output.dense.bias', True), ('model.transformer.encoder.layer.3.output.LayerNorm.weight', False), ('model.transformer.encoder.layer.3.output.LayerNorm.bias', True), ('model.transformer.encoder.layer.4.attention.self.query.weight', False), ('model.transformer.encoder.layer.4.attention.self.query.bias', True), ('model.transformer.encoder.layer.4.attention.self.key.weight', False), ('model.transformer.encoder.layer.4.attention.self.key.bias', True), ('model.transformer.encoder.layer.4.attention.self.value.weight', False), ('model.transformer.encoder.layer.4.attention.self.value.bias', True), ('model.transformer.encoder.layer.4.attention.output.dense.weight', False), ('model.transformer.encoder.layer.4.attention.output.dense.bias', True), ('model.transformer.encoder.layer.4.attention.output.LayerNorm.weight', False), ('model.transformer.encoder.layer.4.attention.output.LayerNorm.bias', True), ('model.transformer.encoder.layer.4.intermediate.dense.weight', False), ('model.transformer.encoder.layer.4.intermediate.dense.bias', True), ('model.transformer.encoder.layer.4.output.dense.weight', False), ('model.transformer.encoder.layer.4.output.dense.bias', True), ('model.transformer.encoder.layer.4.output.LayerNorm.weight', False), ('model.transformer.encoder.layer.4.output.LayerNorm.bias', True), ('model.transformer.encoder.layer.5.attention.self.query.weight', False), ('model.transformer.encoder.layer.5.attention.self.query.bias', True), ('model.transformer.encoder.layer.5.attention.self.key.weight', False), ('model.transformer.encoder.layer.5.attention.self.key.bias', True), ('model.transformer.encoder.layer.5.attention.self.value.weight', False), ('model.transformer.encoder.layer.5.attention.self.value.bias', True), ('model.transformer.encoder.layer.5.attention.output.dense.weight', False), ('model.transformer.encoder.layer.5.attention.output.dense.bias', True), ('model.transformer.encoder.layer.5.attention.output.LayerNorm.weight', False), ('model.transformer.encoder.layer.5.attention.output.LayerNorm.bias', True), ('model.transformer.encoder.layer.5.intermediate.dense.weight', False), ('model.transformer.encoder.layer.5.intermediate.dense.bias', True), ('model.transformer.encoder.layer.5.output.dense.weight', False), ('model.transformer.encoder.layer.5.output.dense.bias', True), ('model.transformer.encoder.layer.5.output.LayerNorm.weight', False), ('model.transformer.encoder.layer.5.output.LayerNorm.bias', True), ('model.transformer.encoder.layer.6.attention.self.query.weight', False), ('model.transformer.encoder.layer.6.attention.self.query.bias', True), ('model.transformer.encoder.layer.6.attention.self.key.weight', False), ('model.transformer.encoder.layer.6.attention.self.key.bias', True), ('model.transformer.encoder.layer.6.attention.self.value.weight', False), ('model.transformer.encoder.layer.6.attention.self.value.bias', True), ('model.transformer.encoder.layer.6.attention.output.dense.weight', False), ('model.transformer.encoder.layer.6.attention.output.dense.bias', True), ('model.transformer.encoder.layer.6.attention.output.LayerNorm.weight', False), ('model.transformer.encoder.layer.6.attention.output.LayerNorm.bias', True), ('model.transformer.encoder.layer.6.intermediate.dense.weight', False), ('model.transformer.encoder.layer.6.intermediate.dense.bias', True), ('model.transformer.encoder.layer.6.output.dense.weight', False), ('model.transformer.encoder.layer.6.output.dense.bias', True), ('model.transformer.encoder.layer.6.output.LayerNorm.weight', False), ('model.transformer.encoder.layer.6.output.LayerNorm.bias', True), ('model.transformer.encoder.layer.7.attention.self.query.weight', False), ('model.transformer.encoder.layer.7.attention.self.query.bias', True), ('model.transformer.encoder.layer.7.attention.self.key.weight', False), ('model.transformer.encoder.layer.7.attention.self.key.bias', True), ('model.transformer.encoder.layer.7.attention.self.value.weight', False), ('model.transformer.encoder.layer.7.attention.self.value.bias', True), ('model.transformer.encoder.layer.7.attention.output.dense.weight', False), ('model.transformer.encoder.layer.7.attention.output.dense.bias', True), ('model.transformer.encoder.layer.7.attention.output.LayerNorm.weight', False), ('model.transformer.encoder.layer.7.attention.output.LayerNorm.bias', True), ('model.transformer.encoder.layer.7.intermediate.dense.weight', False), ('model.transformer.encoder.layer.7.intermediate.dense.bias', True), ('model.transformer.encoder.layer.7.output.dense.weight', False), ('model.transformer.encoder.layer.7.output.dense.bias', True), ('model.transformer.encoder.layer.7.output.LayerNorm.weight', False), ('model.transformer.encoder.layer.7.output.LayerNorm.bias', True), ('model.transformer.encoder.layer.8.attention.self.query.weight', False), ('model.transformer.encoder.layer.8.attention.self.query.bias', True), ('model.transformer.encoder.layer.8.attention.self.key.weight', False), ('model.transformer.encoder.layer.8.attention.self.key.bias', True), ('model.transformer.encoder.layer.8.attention.self.value.weight', False), ('model.transformer.encoder.layer.8.attention.self.value.bias', True), ('model.transformer.encoder.layer.8.attention.output.dense.weight', False), ('model.transformer.encoder.layer.8.attention.output.dense.bias', True), ('model.transformer.encoder.layer.8.attention.output.LayerNorm.weight', False), ('model.transformer.encoder.layer.8.attention.output.LayerNorm.bias', True), ('model.transformer.encoder.layer.8.intermediate.dense.weight', False), ('model.transformer.encoder.layer.8.intermediate.dense.bias', True), ('model.transformer.encoder.layer.8.output.dense.weight', False), ('model.transformer.encoder.layer.8.output.dense.bias', True), ('model.transformer.encoder.layer.8.output.LayerNorm.weight', False), ('model.transformer.encoder.layer.8.output.LayerNorm.bias', True), ('model.transformer.encoder.layer.9.attention.self.query.weight', False), ('model.transformer.encoder.layer.9.attention.self.query.bias', True), ('model.transformer.encoder.layer.9.attention.self.key.weight', False), ('model.transformer.encoder.layer.9.attention.self.key.bias', True), ('model.transformer.encoder.layer.9.attention.self.value.weight', False), ('model.transformer.encoder.layer.9.attention.self.value.bias', True), ('model.transformer.encoder.layer.9.attention.output.dense.weight', False), ('model.transformer.encoder.layer.9.attention.output.dense.bias', True), ('model.transformer.encoder.layer.9.attention.output.LayerNorm.weight', False), ('model.transformer.encoder.layer.9.attention.output.LayerNorm.bias', True), ('model.transformer.encoder.layer.9.intermediate.dense.weight', False), ('model.transformer.encoder.layer.9.intermediate.dense.bias', True), ('model.transformer.encoder.layer.9.output.dense.weight', False), ('model.transformer.encoder.layer.9.output.dense.bias', True), ('model.transformer.encoder.layer.9.output.LayerNorm.weight', False), ('model.transformer.encoder.layer.9.output.LayerNorm.bias', True), ('model.transformer.encoder.layer.10.attention.self.query.weight', False), ('model.transformer.encoder.layer.10.attention.self.query.bias', True), ('model.transformer.encoder.layer.10.attention.self.key.weight', False), ('model.transformer.encoder.layer.10.attention.self.key.bias', True), ('model.transformer.encoder.layer.10.attention.self.value.weight', False), ('model.transformer.encoder.layer.10.attention.self.value.bias', True), ('model.transformer.encoder.layer.10.attention.output.dense.weight', False), ('model.transformer.encoder.layer.10.attention.output.dense.bias', True), ('model.transformer.encoder.layer.10.attention.output.LayerNorm.weight', False), ('model.transformer.encoder.layer.10.attention.output.LayerNorm.bias', True), ('model.transformer.encoder.layer.10.intermediate.dense.weight', False), ('model.transformer.encoder.layer.10.intermediate.dense.bias', True), ('model.transformer.encoder.layer.10.output.dense.weight', False), ('model.transformer.encoder.layer.10.output.dense.bias', True), ('model.transformer.encoder.layer.10.output.LayerNorm.weight', False), ('model.transformer.encoder.layer.10.output.LayerNorm.bias', True), ('model.transformer.encoder.layer.11.attention.self.query.weight', False), ('model.transformer.encoder.layer.11.attention.self.query.bias', True), ('model.transformer.encoder.layer.11.attention.self.key.weight', False), ('model.transformer.encoder.layer.11.attention.self.key.bias', True), ('model.transformer.encoder.layer.11.attention.self.value.weight', False), ('model.transformer.encoder.layer.11.attention.self.value.bias', True), ('model.transformer.encoder.layer.11.attention.output.dense.weight', False), ('model.transformer.encoder.layer.11.attention.output.dense.bias', True), ('model.transformer.encoder.layer.11.attention.output.LayerNorm.weight', False), ('model.transformer.encoder.layer.11.attention.output.LayerNorm.bias', True), ('model.transformer.encoder.layer.11.intermediate.dense.weight', False), ('model.transformer.encoder.layer.11.intermediate.dense.bias', True), ('model.transformer.encoder.layer.11.output.dense.weight', False), ('model.transformer.encoder.layer.11.output.dense.bias', True), ('model.transformer.encoder.layer.11.output.LayerNorm.weight', False), ('model.transformer.encoder.layer.11.output.LayerNorm.bias', True), ('model.out.weight', False), ('model.out.bias', True)]\n"
     ]
    }
   ],
   "source": [
    "nn.model.setup_bitfit_fine_tuning()\n",
    "print([(k, v.requires_grad) for k, v in nn.named_parameters()])\n",
    "print()\n",
    "print()\n",
    "nn.model.train()\n",
    "torch.set_grad_enabled(True)\n",
    "print([(k, v.requires_grad) for k, v in nn.named_parameters()])"
   ],
   "metadata": {
    "collapsed": false,
    "ExecuteTime": {
     "end_time": "2023-06-24T17:07:03.167053119Z",
     "start_time": "2023-06-24T17:07:03.137791963Z"
    }
   }
  },
  {
   "cell_type": "code",
   "execution_count": 10,
   "outputs": [
    {
     "name": "stdout",
     "output_type": "stream",
     "text": [
      "<class 'dict'>\n",
      "<class 'datasets.arrow_dataset.Dataset'>\n"
     ]
    }
   ],
   "source": [
    "print(type(data.dataset.tokenized_datasets['train'][:5]))\n",
    "\n",
    "print(type(data.dataset.tokenized_datasets['train']))"
   ],
   "metadata": {
    "collapsed": false,
    "ExecuteTime": {
     "end_time": "2023-06-24T17:07:03.201037726Z",
     "start_time": "2023-06-24T17:07:03.140000172Z"
    }
   }
  }
 ],
 "metadata": {
  "kernelspec": {
   "display_name": "Python 3",
   "language": "python",
   "name": "python3"
  },
  "language_info": {
   "codemirror_mode": {
    "name": "ipython",
    "version": 2
   },
   "file_extension": ".py",
   "mimetype": "text/x-python",
   "name": "python",
   "nbconvert_exporter": "python",
   "pygments_lexer": "ipython2",
   "version": "2.7.6"
  }
 },
 "nbformat": 4,
 "nbformat_minor": 0
}
